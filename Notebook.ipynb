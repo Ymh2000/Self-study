{
 "cells": [
  {
   "cell_type": "code",
   "execution_count": 17,
   "id": "1dd16a1d",
   "metadata": {},
   "outputs": [
    {
     "name": "stdout",
     "output_type": "stream",
     "text": [
      "          입력한 문자열은 5입니다.\n",
      "          5은(는) 홀수입니다.\n",
      "\n",
      "입력한 문자열은 10입니다.\n",
      "10은(는) 짝수입니다.\n",
      "\n",
      "입력한 문자열은 10입니다.\n",
      "10은(는) 짝수입니다.\n",
      "\n",
      "test :  이렇게 입력해도 하나의 문자열로 연결이 될까요??\n",
      "\n",
      "test2 :  띄어쓰기v표시는v역시v이거지\n",
      "\n",
      "입력한 문자열은 10입니다.\n",
      "10은(는) 짝수입니다.\n"
     ]
    }
   ],
   "source": [
    "#들여쓰기 확인\n",
    "\n",
    "number = int(input(\"정수 입력 : \"))\n",
    "\n",
    "if number % 2 == 0:\n",
    "    print(\"\"\"\\\n",
    "          입력한 문자열은 {}입니다.\n",
    "          {}은(는) 짝수입니다.\"\"\".format(number,number))\n",
    "else:\n",
    "    print(\"\"\"\\\n",
    "          입력한 문자열은 {}입니다.\n",
    "          {}은(는) 홀수입니다.\"\"\".format(number,number))\n",
    "print()\n",
    "\n",
    "#들여쓰기 제거\n",
    "\n",
    "num = int(input(\"정수 입력 : \"))\n",
    "\n",
    "if num % 2 == 0:\n",
    "    print(\"\"\"입력한 문자열은 {}입니다.\n",
    "{}은(는) 짝수입니다.\"\"\".format(num,num))\n",
    "else:\n",
    "    print(\"\"\"입력한 문자열은 {}입니다.\n",
    "{}은(는) 홀수입니다.\"\"\".format(num,num))\n",
    "print()\n",
    "\n",
    "#주로 사용되는 해결법\n",
    "\n",
    "if num % 2 == 0:\n",
    "    print(\"입력한 문자열은 {}입니다.\\n{}은(는) 짝수입니다.\".format(num,num))\n",
    "else:\n",
    "    print(\"입력한 문자열은 {}입니다.\\n{}은(는) 홀수입니다.\".format(num,num))\n",
    "print()\n",
    "\n",
    "test = (\"이렇게 입력해도 \"\n",
    "        \"하나의 문자열로 연결이 \"\n",
    "        \"될까요??\")\n",
    "print(\"test : \",test)\n",
    "print()\n",
    "\n",
    "test2 = (\"v\".join([\"띄어쓰기\",\"표시는\",\"역시\",\"이거지\"]))\n",
    "print(\"test2 : \",test2)\n",
    "print()\n",
    "\n",
    "#위의 두가지를 활용\n",
    "\n",
    "if num % 2 == 0:\n",
    "    print(\"\\n\".join([\"입력한 문자열은 {}입니다.\",\n",
    "            \"{}은(는) 짝수입니다.\"]).format(num,num))\n",
    "else:\n",
    "    print(\"\\n\".join([\"입력한 문자열은 {}입니다.\"\n",
    "           ,\"{}은(는) 홀수입니다.\"]).format(num,num))\n",
    "\n",
    "\n"
   ]
  },
  {
   "cell_type": "code",
   "execution_count": 19,
   "id": "b8e6b8fb",
   "metadata": {},
   "outputs": [
    {
     "name": "stdout",
     "output_type": "stream",
     "text": [
      "안녕하세요\n",
      "안녕하세요\n",
      "\n",
      "반갑습니다\n",
      "반갑습니다\n",
      "반갑습니다\n",
      "반갑습니다\n",
      "반갑습니다\n"
     ]
    }
   ],
   "source": [
    "#일반 매개변수 궁금증\n",
    "\n",
    "def ex1(value,n = 2):\n",
    "    for i in range(n):\n",
    "        print(value)\n",
    "\n",
    "ex1(\"안녕하세요\")\n",
    "print()\n",
    "\n",
    "def ex2(value,n = 2):\n",
    "    for i in range(n):\n",
    "        print(value)\n",
    "\n",
    "ex2(\"반갑습니다\",5)"
   ]
  },
  {
   "cell_type": "code",
   "execution_count": 24,
   "id": "21c91002",
   "metadata": {},
   "outputs": [
    {
     "name": "stdout",
     "output_type": "stream",
     "text": [
      "21\n",
      "\n",
      "121\n"
     ]
    }
   ],
   "source": [
    "# f(x) = 2x + 1\n",
    "\n",
    "def f(x):\n",
    "    return 2 * x + 1\n",
    "print(f(10))\n",
    "print()\n",
    "\n",
    "# f(x) = xe + 2x + 1\n",
    "\n",
    "def f(x):\n",
    "    return x ** 2 + 2 * x + 1\n",
    "print(f(10))\n"
   ]
  },
  {
   "cell_type": "code",
   "execution_count": null,
   "id": "30438aaa",
   "metadata": {},
   "outputs": [
    {
     "name": "stdout",
     "output_type": "stream",
     "text": [
      "=== return output이 없는 경우 ===\n",
      "\n",
      "🚀 fi2_no_return(4) 실행:\n",
      "📞 fi2_no_return(4) 호출됨\n",
      "  ❌ dict1에 4 없음, 계산 시작\n",
      "  🔄 fi2_no_return(3) + fi2_no_return(2) 계산\n",
      "📞 fi2_no_return(3) 호출됨\n",
      "  ❌ dict1에 3 없음, 계산 시작\n",
      "  🔄 fi2_no_return(2) + fi2_no_return(1) 계산\n",
      "📞 fi2_no_return(2) 호출됨\n",
      "  ✅ dict1에서 2 찾음: 1\n",
      "  📥 fi2_no_return(2) 결과: 1\n",
      "📞 fi2_no_return(1) 호출됨\n",
      "  ✅ dict1에서 1 찾음: 1\n",
      "  📥 fi2_no_return(1) 결과: 1\n",
      "  ➕ 1 + 1 = 2\n",
      "  💾 dict1[3] = 2 저장\n",
      "  ⚠️  return output이 없으므로 None 반환!\n",
      "  📥 fi2_no_return(3) 결과: None\n",
      "📞 fi2_no_return(2) 호출됨\n",
      "  ✅ dict1에서 2 찾음: 1\n",
      "  📥 fi2_no_return(2) 결과: 1\n",
      "  💥 오류 발생: unsupported operand type(s) for +: 'NoneType' and 'int'\n",
      "최종 결과: None\n",
      "dict1 최종 상태: {1: 1, 2: 1, 3: 2}\n",
      "\n",
      "==================================================\n"
     ]
    }
   ],
   "source": [
    "# === return output이 없는 경우 ===\n",
    "print(\"=== return output이 없는 경우 ===\")\n",
    "dict1 = {1: 1, 2: 1}\n",
    "\n",
    "def fi2_no_return(n):\n",
    "    print(f\"📞 fi2_no_return({n}) 호출됨\")\n",
    "    \n",
    "    if n in dict1:\n",
    "        print(f\"  ✅ dict1에서 {n} 찾음: {dict1[n]}\")\n",
    "        return dict1[n]\n",
    "    \n",
    "    print(f\"  ❌ dict1에 {n} 없음, 계산 시작\")\n",
    "    print(f\"  🔄 fi2_no_return({n-1}) + fi2_no_return({n-2}) 계산\")\n",
    "    \n",
    "    result1 = fi2_no_return(n - 1)\n",
    "    print(f\"  📥 fi2_no_return({n-1}) 결과: {result1}\")\n",
    "    \n",
    "    result2 = fi2_no_return(n - 2)\n",
    "    print(f\"  📥 fi2_no_return({n-2}) 결과: {result2}\")\n",
    "    \n",
    "    try:\n",
    "        output = result1 + result2\n",
    "        print(f\"  ➕ {result1} + {result2} = {output}\")\n",
    "        dict1[n] = output\n",
    "        print(f\"  💾 dict1[{n}] = {output} 저장\")\n",
    "        print(f\"  ⚠️  return output이 없으므로 None 반환!\")\n",
    "        # return output  # 이 줄이 주석처리됨!\n",
    "    except TypeError as e:\n",
    "        print(f\"  💥 오류 발생: {e}\")\n",
    "        return None\n",
    "\n",
    "print(\"\\n🚀 fi2_no_return(4) 실행:\")\n",
    "try:\n",
    "    result = fi2_no_return(4)\n",
    "    print(f\"최종 결과: {result}\")\n",
    "except Exception as e:\n",
    "    print(f\"💥 프로그램 오류: {e}\")\n",
    "\n",
    "print(f\"dict1 최종 상태: {dict1}\")\n",
    "\n",
    "print(\"\\n\" + \"=\"*50)\n",
    "\n",
    "\n",
    "\n"
   ]
  },
  {
   "cell_type": "code",
   "execution_count": 34,
   "id": "813a17d2",
   "metadata": {},
   "outputs": [
    {
     "name": "stdout",
     "output_type": "stream",
     "text": [
      "None\n"
     ]
    }
   ],
   "source": [
    "def test():\n",
    "    if False:\n",
    "        print(\"None반환\")\n",
    "    else:\n",
    "        pass\n",
    "print(test())   "
   ]
  },
  {
   "cell_type": "code",
   "execution_count": 36,
   "id": "e46ea3d5",
   "metadata": {},
   "outputs": [
    {
     "data": {
      "text/plain": [
       "list"
      ]
     },
     "execution_count": 36,
     "metadata": {},
     "output_type": "execute_result"
    }
   ],
   "source": [
    "example = [[1,2,3],[4,[5,6]],7,[8,9]]\n",
    "type(example)"
   ]
  },
  {
   "cell_type": "code",
   "execution_count": null,
   "id": "71d263c1",
   "metadata": {},
   "outputs": [],
   "source": []
  }
 ],
 "metadata": {
  "kernelspec": {
   "display_name": "pyt310",
   "language": "python",
   "name": "python3"
  },
  "language_info": {
   "codemirror_mode": {
    "name": "ipython",
    "version": 3
   },
   "file_extension": ".py",
   "mimetype": "text/x-python",
   "name": "python",
   "nbconvert_exporter": "python",
   "pygments_lexer": "ipython3",
   "version": "3.10.18"
  }
 },
 "nbformat": 4,
 "nbformat_minor": 5
}
