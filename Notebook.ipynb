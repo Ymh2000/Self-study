{
 "cells": [
  {
   "cell_type": "code",
   "execution_count": 17,
   "id": "1dd16a1d",
   "metadata": {},
   "outputs": [
    {
     "name": "stdout",
     "output_type": "stream",
     "text": [
      "          입력한 문자열은 5입니다.\n",
      "          5은(는) 홀수입니다.\n",
      "\n",
      "입력한 문자열은 10입니다.\n",
      "10은(는) 짝수입니다.\n",
      "\n",
      "입력한 문자열은 10입니다.\n",
      "10은(는) 짝수입니다.\n",
      "\n",
      "test :  이렇게 입력해도 하나의 문자열로 연결이 될까요??\n",
      "\n",
      "test2 :  띄어쓰기v표시는v역시v이거지\n",
      "\n",
      "입력한 문자열은 10입니다.\n",
      "10은(는) 짝수입니다.\n"
     ]
    }
   ],
   "source": [
    "#들여쓰기 확인\n",
    "\n",
    "number = int(input(\"정수 입력 : \"))\n",
    "\n",
    "if number % 2 == 0:\n",
    "    print(\"\"\"\\\n",
    "          입력한 문자열은 {}입니다.\n",
    "          {}은(는) 짝수입니다.\"\"\".format(number,number))\n",
    "else:\n",
    "    print(\"\"\"\\\n",
    "          입력한 문자열은 {}입니다.\n",
    "          {}은(는) 홀수입니다.\"\"\".format(number,number))\n",
    "print()\n",
    "\n",
    "#들여쓰기 제거\n",
    "\n",
    "num = int(input(\"정수 입력 : \"))\n",
    "\n",
    "if num % 2 == 0:\n",
    "    print(\"\"\"입력한 문자열은 {}입니다.\n",
    "{}은(는) 짝수입니다.\"\"\".format(num,num))\n",
    "else:\n",
    "    print(\"\"\"입력한 문자열은 {}입니다.\n",
    "{}은(는) 홀수입니다.\"\"\".format(num,num))\n",
    "print()\n",
    "\n",
    "#주로 사용되는 해결법\n",
    "\n",
    "if num % 2 == 0:\n",
    "    print(\"입력한 문자열은 {}입니다.\\n{}은(는) 짝수입니다.\".format(num,num))\n",
    "else:\n",
    "    print(\"입력한 문자열은 {}입니다.\\n{}은(는) 홀수입니다.\".format(num,num))\n",
    "print()\n",
    "\n",
    "test = (\"이렇게 입력해도 \"\n",
    "        \"하나의 문자열로 연결이 \"\n",
    "        \"될까요??\")\n",
    "print(\"test : \",test)\n",
    "print()\n",
    "\n",
    "test2 = (\"v\".join([\"띄어쓰기\",\"표시는\",\"역시\",\"이거지\"]))\n",
    "print(\"test2 : \",test2)\n",
    "print()\n",
    "\n",
    "#위의 두가지를 활용\n",
    "\n",
    "if num % 2 == 0:\n",
    "    print(\"\\n\".join([\"입력한 문자열은 {}입니다.\",\n",
    "            \"{}은(는) 짝수입니다.\"]).format(num,num))\n",
    "else:\n",
    "    print(\"\\n\".join([\"입력한 문자열은 {}입니다.\"\n",
    "           ,\"{}은(는) 홀수입니다.\"]).format(num,num))\n",
    "\n",
    "\n"
   ]
  },
  {
   "cell_type": "code",
   "execution_count": 19,
   "id": "b8e6b8fb",
   "metadata": {},
   "outputs": [
    {
     "name": "stdout",
     "output_type": "stream",
     "text": [
      "안녕하세요\n",
      "안녕하세요\n",
      "\n",
      "반갑습니다\n",
      "반갑습니다\n",
      "반갑습니다\n",
      "반갑습니다\n",
      "반갑습니다\n"
     ]
    }
   ],
   "source": [
    "#일반 매개변수 궁금증\n",
    "\n",
    "def ex1(value,n = 2):\n",
    "    for i in range(n):\n",
    "        print(value)\n",
    "\n",
    "ex1(\"안녕하세요\")\n",
    "print()\n",
    "\n",
    "def ex2(value,n = 2):\n",
    "    for i in range(n):\n",
    "        print(value)\n",
    "\n",
    "ex2(\"반갑습니다\",5)"
   ]
  },
  {
   "cell_type": "code",
   "execution_count": 24,
   "id": "21c91002",
   "metadata": {},
   "outputs": [
    {
     "name": "stdout",
     "output_type": "stream",
     "text": [
      "21\n",
      "\n",
      "121\n"
     ]
    }
   ],
   "source": [
    "# f(x) = 2x + 1\n",
    "\n",
    "def f(x):\n",
    "    return 2 * x + 1\n",
    "print(f(10))\n",
    "print()\n",
    "\n",
    "# f(x) = xe + 2x + 1\n",
    "\n",
    "def f(x):\n",
    "    return x ** 2 + 2 * x + 1\n",
    "print(f(10))\n"
   ]
  },
  {
   "cell_type": "code",
   "execution_count": null,
   "id": "30438aaa",
   "metadata": {},
   "outputs": [
    {
     "name": "stdout",
     "output_type": "stream",
     "text": [
      "=== return output이 없는 경우 ===\n",
      "\n",
      "🚀 fi2_no_return(4) 실행:\n",
      "📞 fi2_no_return(4) 호출됨\n",
      "  ❌ dict1에 4 없음, 계산 시작\n",
      "  🔄 fi2_no_return(3) + fi2_no_return(2) 계산\n",
      "📞 fi2_no_return(3) 호출됨\n",
      "  ❌ dict1에 3 없음, 계산 시작\n",
      "  🔄 fi2_no_return(2) + fi2_no_return(1) 계산\n",
      "📞 fi2_no_return(2) 호출됨\n",
      "  ✅ dict1에서 2 찾음: 1\n",
      "  📥 fi2_no_return(2) 결과: 1\n",
      "📞 fi2_no_return(1) 호출됨\n",
      "  ✅ dict1에서 1 찾음: 1\n",
      "  📥 fi2_no_return(1) 결과: 1\n",
      "  ➕ 1 + 1 = 2\n",
      "  💾 dict1[3] = 2 저장\n",
      "  ⚠️  return output이 없으므로 None 반환!\n",
      "  📥 fi2_no_return(3) 결과: None\n",
      "📞 fi2_no_return(2) 호출됨\n",
      "  ✅ dict1에서 2 찾음: 1\n",
      "  📥 fi2_no_return(2) 결과: 1\n",
      "  💥 오류 발생: unsupported operand type(s) for +: 'NoneType' and 'int'\n",
      "최종 결과: None\n",
      "dict1 최종 상태: {1: 1, 2: 1, 3: 2}\n",
      "\n",
      "==================================================\n"
     ]
    }
   ],
   "source": [
    "# === return output이 없는 경우 ===\n",
    "print(\"=== return output이 없는 경우 ===\")\n",
    "dict1 = {1: 1, 2: 1}\n",
    "\n",
    "def fi2_no_return(n):\n",
    "    print(f\"📞 fi2_no_return({n}) 호출됨\")\n",
    "    \n",
    "    if n in dict1:\n",
    "        print(f\"  ✅ dict1에서 {n} 찾음: {dict1[n]}\")\n",
    "        return dict1[n]\n",
    "    \n",
    "    print(f\"  ❌ dict1에 {n} 없음, 계산 시작\")\n",
    "    print(f\"  🔄 fi2_no_return({n-1}) + fi2_no_return({n-2}) 계산\")\n",
    "    \n",
    "    result1 = fi2_no_return(n - 1)\n",
    "    print(f\"  📥 fi2_no_return({n-1}) 결과: {result1}\")\n",
    "    \n",
    "    result2 = fi2_no_return(n - 2)\n",
    "    print(f\"  📥 fi2_no_return({n-2}) 결과: {result2}\")\n",
    "    \n",
    "    try:\n",
    "        output = result1 + result2\n",
    "        print(f\"  ➕ {result1} + {result2} = {output}\")\n",
    "        dict1[n] = output\n",
    "        print(f\"  💾 dict1[{n}] = {output} 저장\")\n",
    "        print(f\"  ⚠️  return output이 없으므로 None 반환!\")\n",
    "        # return output  # 이 줄이 주석처리됨!\n",
    "    except TypeError as e:\n",
    "        print(f\"  💥 오류 발생: {e}\")\n",
    "        return None\n",
    "\n",
    "print(\"\\n🚀 fi2_no_return(4) 실행:\")\n",
    "try:\n",
    "    result = fi2_no_return(4)\n",
    "    print(f\"최종 결과: {result}\")\n",
    "except Exception as e:\n",
    "    print(f\"💥 프로그램 오류: {e}\")\n",
    "\n",
    "print(f\"dict1 최종 상태: {dict1}\")\n",
    "\n",
    "print(\"\\n\" + \"=\"*50)\n",
    "\n",
    "\n",
    "\n"
   ]
  },
  {
   "cell_type": "code",
   "execution_count": 34,
   "id": "813a17d2",
   "metadata": {},
   "outputs": [
    {
     "name": "stdout",
     "output_type": "stream",
     "text": [
      "None\n"
     ]
    }
   ],
   "source": [
    "def test():\n",
    "    if False:\n",
    "        print(\"None반환\")\n",
    "    else:\n",
    "        pass\n",
    "print(test())   "
   ]
  },
  {
   "cell_type": "code",
   "execution_count": 36,
   "id": "e46ea3d5",
   "metadata": {},
   "outputs": [
    {
     "data": {
      "text/plain": [
       "list"
      ]
     },
     "execution_count": 36,
     "metadata": {},
     "output_type": "execute_result"
    }
   ],
   "source": [
    "example = [[1,2,3],[4,[5,6]],7,[8,9]]\n",
    "type(example)"
   ]
  },
  {
   "cell_type": "code",
   "execution_count": 45,
   "id": "71d263c1",
   "metadata": {},
   "outputs": [
    {
     "name": "stdout",
     "output_type": "stream",
     "text": [
      "안녕하세요\n",
      "안녕하세요\n",
      "안녕하세요\n",
      "안녕하세요\n",
      "안녕하세요\n",
      "안녕하세요\n",
      "안녕하세요\n",
      "안녕하세요\n",
      "안녕하세요\n",
      "안녕하세요\n"
     ]
    }
   ],
   "source": [
    "def call_10_times(a):\n",
    "    for i in range(10):\n",
    "        a()\n",
    "\n",
    "def print_hello():\n",
    "    print(\"안녕하세요\")\n",
    "\n",
    "call_10_times(print_hello)"
   ]
  },
  {
   "cell_type": "code",
   "execution_count": 41,
   "id": "5b004944",
   "metadata": {},
   "outputs": [
    {
     "name": "stdout",
     "output_type": "stream",
     "text": [
      "안녕하세요\n",
      "안녕하세요\n",
      "안녕하세요\n",
      "안녕하세요\n",
      "안녕하세요\n",
      "안녕하세요\n",
      "안녕하세요\n",
      "안녕하세요\n",
      "안녕하세요\n",
      "안녕하세요\n",
      "\n",
      "--- 다른 함수로 테스트 ---\n",
      "안녕히 가세요\n",
      "안녕히 가세요\n",
      "안녕히 가세요\n",
      "안녕히 가세요\n",
      "안녕히 가세요\n",
      "안녕히 가세요\n",
      "안녕히 가세요\n",
      "안녕히 가세요\n",
      "안녕히 가세요\n",
      "안녕히 가세요\n",
      "\n",
      "--- 5번만 호출하기 ---\n",
      "안녕하세요\n",
      "안녕하세요\n",
      "안녕하세요\n",
      "안녕하세요\n",
      "안녕하세요\n"
     ]
    }
   ],
   "source": [
    "def call_10_times(func):\n",
    "    for i in range(10):\n",
    "        func()\n",
    "\n",
    "def print_hello():\n",
    "    print(\"안녕하세요\")\n",
    "\n",
    "call_10_times(print_hello)\n",
    "\n",
    "# 다른 함수들도 테스트해보기\n",
    "def print_goodbye():\n",
    "    print(\"안녕히 가세요\")\n",
    "\n",
    "def print_number():\n",
    "    print(\"숫자:\", i)  # 주의: 이 경우 i는 전역 변수를 참조\n",
    "\n",
    "print(\"\\n--- 다른 함수로 테스트 ---\")\n",
    "call_10_times(print_goodbye)\n",
    "\n",
    "# 더 유연한 버전 - 매개변수와 함께\n",
    "def call_n_times(func, n):\n",
    "    for i in range(n):\n",
    "        func()\n",
    "\n",
    "print(\"\\n--- 5번만 호출하기 ---\")\n",
    "call_n_times(print_hello, 5)\n",
    "\n"
   ]
  },
  {
   "cell_type": "code",
   "execution_count": 40,
   "id": "4f7fcf22",
   "metadata": {},
   "outputs": [
    {
     "name": "stdout",
     "output_type": "stream",
     "text": [
      "\n",
      "--- 람다 함수 사용 ---\n",
      "람다로 인사해요!\n",
      "람다로 인사해요!\n",
      "람다로 인사해요!\n",
      "람다로 인사해요!\n",
      "람다로 인사해요!\n",
      "람다로 인사해요!\n",
      "람다로 인사해요!\n",
      "람다로 인사해요!\n",
      "람다로 인사해요!\n",
      "람다로 인사해요!\n",
      "\n",
      "--- 번호와 함께 ---\n",
      "1번째 안녕하세요\n",
      "2번째 안녕하세요\n",
      "3번째 안녕하세요\n",
      "4번째 안녕하세요\n",
      "5번째 안녕하세요\n"
     ]
    }
   ],
   "source": [
    "# 람다 함수 사용\n",
    "print(\"\\n--- 람다 함수 사용 ---\")\n",
    "call_10_times(lambda: print(\"람다로 인사해요!\"))\n",
    "\n",
    "# 인덱스를 전달하는 버전\n",
    "def call_with_index(func, n):\n",
    "    for i in range(n):\n",
    "        func(i)\n",
    "\n",
    "def print_hello_with_number(num):\n",
    "    print(f\"{num+1}번째 안녕하세요\")\n",
    "\n",
    "print(\"\\n--- 번호와 함께 ---\")\n",
    "call_with_index(print_hello_with_number, 5)"
   ]
  },
  {
   "cell_type": "code",
   "execution_count": 3,
   "id": "789cecdb",
   "metadata": {},
   "outputs": [
    {
     "name": "stdout",
     "output_type": "stream",
     "text": [
      "입력값이 부족합니다\n"
     ]
    }
   ],
   "source": [
    "try:\n",
    "    line = input().strip()\n",
    "    values = line.split()\n",
    "    if len(values) >= 2:\n",
    "        a, b = values[0], values[1]\n",
    "        print(\"a = {}\".format(a))\n",
    "        print(\"b = {}\".format(b))\n",
    "    else:\n",
    "        print(\"입력값이 부족합니다\")\n",
    "except EOFError:\n",
    "    print(\"입력이 없습니다\")"
   ]
  },
  {
   "cell_type": "code",
   "execution_count": 19,
   "id": "2c72e89c",
   "metadata": {},
   "outputs": [
    {
     "name": "stdout",
     "output_type": "stream",
     "text": [
      "4\n",
      "9\n"
     ]
    }
   ],
   "source": [
    "def square(*values):\n",
    "    for value in values:\n",
    "        print(int(value) ** 2)\n",
    "square(2,3)\n"
   ]
  },
  {
   "cell_type": "code",
   "execution_count": 23,
   "id": "bcca324c",
   "metadata": {},
   "outputs": [
    {
     "name": "stdout",
     "output_type": "stream",
     "text": [
      "AbCdEfG\n"
     ]
    }
   ],
   "source": [
    "a = \"aBcDeFg\"\n",
    "print(a.swapcase())"
   ]
  },
  {
   "cell_type": "code",
   "execution_count": 27,
   "id": "1302e895",
   "metadata": {},
   "outputs": [
    {
     "name": "stdout",
     "output_type": "stream",
     "text": [
      "ab\n"
     ]
    }
   ],
   "source": [
    "str1, str2 = input().strip().split(' ')\n",
    "print((\"{}\"+\"{}\").format(str1,str2))"
   ]
  },
  {
   "cell_type": "code",
   "execution_count": 35,
   "id": "5fee50df",
   "metadata": {},
   "outputs": [
    {
     "name": "stdout",
     "output_type": "stream",
     "text": [
      "[2, 4, 6, 8, 0]\n"
     ]
    }
   ],
   "source": [
    "list_a = (1,2,3,4,5,6,7,8,9,0)\n",
    "if True:\n",
    "    output = []\n",
    "    for i in list_a:\n",
    "        if i % 2 == 0:\n",
    "            output.append(i)\n",
    "        else:\n",
    "            pass\n",
    "    print(output)"
   ]
  },
  {
   "cell_type": "code",
   "execution_count": null,
   "id": "19190f12",
   "metadata": {},
   "outputs": [
    {
     "name": "stdout",
     "output_type": "stream",
     "text": [
      "ㄱ,ㄴ\n"
     ]
    }
   ],
   "source": [
    "\n",
    "def iist(*values):\n",
    "    if values:  # values 튜플이 비어있지 않은지 확인\n",
    "        val_list = list(values)  # 튜플을 리스트로 변환\n",
    "        if len(val_list) >= 2:\n",
    "            print(\"{},{}\".format(val_list[0], val_list[1]))\n",
    "        else:\n",
    "            print(\"처음 두 값을 출력하기에 값이 부족합니다\")\n",
    "\n",
    "iist(\"ㄱ\", \"ㄴ\", \"ㄷ\", \"ㄹ\", \"ㅁ\")\n"
   ]
  },
  {
   "cell_type": "code",
   "execution_count": null,
   "id": "d287c987",
   "metadata": {},
   "outputs": [],
   "source": []
  }
 ],
 "metadata": {
  "kernelspec": {
   "display_name": "pyt310",
   "language": "python",
   "name": "python3"
  },
  "language_info": {
   "codemirror_mode": {
    "name": "ipython",
    "version": 3
   },
   "file_extension": ".py",
   "mimetype": "text/x-python",
   "name": "python",
   "nbconvert_exporter": "python",
   "pygments_lexer": "ipython3",
   "version": "3.10.18"
  }
 },
 "nbformat": 4,
 "nbformat_minor": 5
}
