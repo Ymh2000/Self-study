{
 "cells": [
  {
   "cell_type": "code",
   "execution_count": null,
   "id": "d287d96f",
   "metadata": {},
   "outputs": [],
   "source": [
    "import keyword\n",
    "\n",
    "#Program = Pro + Garm 미리 작성된 것\n",
    "\n",
    "#print() = 출력\n",
    "\n",
    "#문자형(str):\"\" 정수(int): n 실수(float): n.n 논리형(bool): True/False\n",
    "\n",
    "#연산자 + = 더하기 - = 빼기 * = 곱하기 / = 나누기 % = 나머지 ** = 제곱 // = 몫\n",
    "\n",
    "#복합 대입 연산자 += : 더하고 대입 -= : 빼고 대입 *= : 곱하고 대입 /= 나누고 대입 %= : 나머지 대입 ** = 제곱 대입 //= 몫 대입\n",
    "\n",
    "# \\\" = \" \\n = enter \\t = tab \\\\ = \\\n",
    "\n",
    "# \"\"\" = enter 마다 줄바꿈\n",
    "\n",
    "#문자열 범위 선택 \"\"[시작:끝] = 슬라이싱\n",
    "\n",
    "#문자열 길이 = len()\n",
    "\n",
    "#사용자 입력 = input(\"\") >> 리턴값은 문자열\n",
    "\n",
    "#자료형 변환 = str(), int(), float(), bool()\n",
    "\n",
    "#.format() = 문자열 포맷팅\n",
    "\n",
    "#대소문자 변환 = upper() : 대문자 lower() : 소문자 capitalize() : 첫글자 대문자 title() : 각 단어 첫글자 대문자\n",
    "\n",
    "#문자열 공백 제거 = strip() : 양옆 lstrip() : 왼쪽 rstrip() : 오른쪽\n",
    "\n",
    "#문자열 찾기 = find(\"\") : 왼쪽부터 찾기 rfind(\"\") : 오른쪽부터 찾기 \n",
    "\n",
    "#문자열 자르기 = split(\"\") : \"\" 기준으로 자르기 join() : \"\" 기준으로 합치기\n",
    "\n",
    "#비교 연산자 == : 같다 != : 같지않다 > : 크다 < : 작다 >= : 크거나 같다 <= : 작거나 같다\n",
    "\n"
   ]
  },
  {
   "cell_type": "code",
   "execution_count": null,
   "id": "293db793",
   "metadata": {},
   "outputs": [
    {
     "name": "stdout",
     "output_type": "stream",
     "text": [
      "10 inch\n",
      "25.4 cm\n"
     ]
    }
   ],
   "source": [
    "#예시 문제 inch to cm 변환\n",
    "\n",
    "StrInput = input(\"숫자 입력:\")\n",
    "NumInput = int(StrInput)\n",
    "\n",
    "print(NumInput,\"inch\")\n",
    "print((NumInput * 2.54),\"cm\")"
   ]
  },
  {
   "cell_type": "code",
   "execution_count": 9,
   "id": "87e14d81",
   "metadata": {},
   "outputs": [
    {
     "name": "stdout",
     "output_type": "stream",
     "text": [
      "반지름(r) =  2.0\n",
      "둘레 :  12.56\n",
      "넓이 =  12.56\n"
     ]
    }
   ],
   "source": [
    "#예시 문제 원의 둘레와 넓이 구하기\n",
    "\n",
    "pi = 3.14\n",
    "\n",
    "str_input = input(\"반지름(r)\")\n",
    "num_input = float(str_input)\n",
    "\n",
    "print(\"반지름(r) = \",num_input)\n",
    "print(\"둘레 : \",2 * pi * num_input)\n",
    "print(\"넓이 = \",pi * num_input ** 2)"
   ]
  },
  {
   "cell_type": "code",
   "execution_count": null,
   "id": "8101908e",
   "metadata": {},
   "outputs": [
    {
     "name": "stdout",
     "output_type": "stream",
     "text": [
      "10 20\n",
      "20 10\n",
      "10 20\n",
      "20 10\n"
     ]
    }
   ],
   "source": [
    "#튜플 전 스왑\n",
    "\n",
    "a = 10\n",
    "b = 20\n",
    "\n",
    "print(a,b)\n",
    "\n",
    "c = a\n",
    "a = b\n",
    "b = c\n",
    "\n",
    "print(a,b)\n",
    "\n",
    "#튜플 후 스왑\n",
    "\n",
    "a = 10\n",
    "b = 20\n",
    "\n",
    "print(a,b)\n",
    "\n",
    "a, b = b, a\n",
    "\n",
    "print(a, b)"
   ]
  },
  {
   "cell_type": "code",
   "execution_count": 8,
   "id": "c985ec62",
   "metadata": {},
   "outputs": [
    {
     "name": "stdout",
     "output_type": "stream",
     "text": [
      "이름 : 홍길동, 나이 : 20\n"
     ]
    }
   ],
   "source": [
    "#.format() 예시\n",
    "\n",
    "name = \"홍길동\"\n",
    "age = 20\n",
    "print(\"이름 : {}, 나이 : {}\".format(name, age))\n"
   ]
  },
  {
   "cell_type": "code",
   "execution_count": 12,
   "id": "f757076e",
   "metadata": {},
   "outputs": [
    {
     "name": "stdout",
     "output_type": "stream",
     "text": [
      "True\n",
      "False\n",
      "False\n",
      "False\n",
      "True\n",
      "True\n",
      "True\n",
      "False\n",
      "False\n",
      "True\n"
     ]
    }
   ],
   "source": [
    " # and 와 or 예시\n",
    "\n",
    "print(True and True) #True\n",
    "print(True and False) #False\n",
    "print(False and True) #False\n",
    "print(False and False) #False\n",
    "\n",
    "print(True or True) #True\n",
    "print(True or False) #Ture\n",
    "print(False or True) #Ture\n",
    "print(False or False) #False\n",
    "\n",
    "# not 예시\n",
    "\n",
    "print(not True) #False\n",
    "print(not False) #Ture"
   ]
  },
  {
   "cell_type": "code",
   "execution_count": 13,
   "id": "e2f99662",
   "metadata": {},
   "outputs": [
    {
     "name": "stdout",
     "output_type": "stream",
     "text": [
      "양수\n"
     ]
    }
   ],
   "source": [
    "#if문 예시\n",
    "\n",
    "num = float(input(\"숫자를 입력하세요.\"))\n",
    "\n",
    "if num > 0:\n",
    "    print(\"양수\")\n",
    "elif num < 0:\n",
    "    print(\"음수\")\n",
    "else:\n",
    "    print(\"0\")"
   ]
  },
  {
   "cell_type": "code",
   "execution_count": 14,
   "id": "3454ceb0",
   "metadata": {},
   "outputs": [
    {
     "name": "stdout",
     "output_type": "stream",
     "text": [
      "5.0이 6.0보다 작습니다\n"
     ]
    }
   ],
   "source": [
    "#예시 문제 a와 b 크기 비교\n",
    "\n",
    "a = float(input(\"1번 숫자\"))\n",
    "b = float(input(\"2번 숫자\"))\n",
    "\n",
    "if a > b:\n",
    "    print(\"{}이 {}보다 큽니다\".format(a,b))\n",
    "elif a < b:\n",
    "    print(\"{}이 {}보다 작습니다\".format(a,b))\n",
    "else:\n",
    "    print(\"{}와 {}는 같습니다\".format(a,b))"
   ]
  },
  {
   "cell_type": "code",
   "execution_count": 15,
   "id": "499c6825",
   "metadata": {},
   "outputs": [
    {
     "name": "stdout",
     "output_type": "stream",
     "text": [
      "조건에 맞습니다.\n"
     ]
    }
   ],
   "source": [
    "x = float(input(\"숫자를 입력하세요.\"))\n",
    "\n",
    "if 10 < x < 20:\n",
    "    print(\"조건에 맞습니다.\")\n",
    "else:\n",
    "    print(\"조건에 맞지 않습니다.\")"
   ]
  },
  {
   "cell_type": "code",
   "execution_count": 16,
   "id": "c750a8ea",
   "metadata": {},
   "outputs": [],
   "source": [
    "# list = [element,element,...]\n",
    "# list ex)\n",
    "\n",
    "lsti_a = [1,2,3,4,5]\n",
    "\n",
    "#index[n] = n번째 요소 ex) list_a[0] = 1\n",
    "\n",
    "#list의 ele추가  list.append(element) = 마지막에 추가 list.insert(n,element) = n번째에 추가 list.extend([element,elemet,...]) = 마지막에 여러개 추가\n",
    "\n",
    "#list의 ele 제거 del list[n] = n번째 요소 제거 list.pop(n) = n번째 요소 제거 후 리턴 list.remove(element) = element 제거 list.clear() = 전체 제거\n",
    "\n",
    "#list 내부 값 확인 element in list"
   ]
  },
  {
   "cell_type": "code",
   "execution_count": 18,
   "id": "0e1b8752",
   "metadata": {},
   "outputs": [
    {
     "name": "stdout",
     "output_type": "stream",
     "text": [
      "1\n",
      "3\n",
      "5\n",
      "7\n",
      "9\n",
      "2\n",
      "4\n",
      "6\n"
     ]
    }
   ],
   "source": [
    "#for 반복문 \n",
    "\n",
    "#for 반복자 in 반복할 수 있는것(list,dic,range...)\n",
    "    #code\n",
    "\n",
    "list_b = [1,3,5,7,9,2,4,6]\n",
    "\n",
    "for element in list_b:\n",
    "    print(element)"
   ]
  },
  {
   "cell_type": "code",
   "execution_count": null,
   "id": "bcafb1a5",
   "metadata": {},
   "outputs": [
    {
     "name": "stdout",
     "output_type": "stream",
     "text": [
      "273\n",
      "103\n",
      "800\n"
     ]
    }
   ],
   "source": [
    "#예시 문제1 100이상의 숫자만 출력\n",
    "\n",
    "numbers = [273,103,5,32,65,9,72,800,99]\n",
    "\n",
    "for num in numbers:\n",
    "    if num >= 100:\n",
    "        print(num)\n",
    "\n",
    "#예시 문제2 홀수 짝수 구분\n",
    "\n",
    "for num in numbers:\n",
    "    if num % 0:\n",
    "        print(\"{}은 짝수입니다.\".format(num))\n",
    "    elif num % 1:\n",
    "        print(\"{}은 홀수입니다.\".format(num))\n"
   ]
  },
  {
   "cell_type": "code",
   "execution_count": null,
   "id": "a830c068",
   "metadata": {},
   "outputs": [],
   "source": []
  }
 ],
 "metadata": {
  "kernelspec": {
   "display_name": "pyt310",
   "language": "python",
   "name": "python3"
  },
  "language_info": {
   "codemirror_mode": {
    "name": "ipython",
    "version": 3
   },
   "file_extension": ".py",
   "mimetype": "text/x-python",
   "name": "python",
   "nbconvert_exporter": "python",
   "pygments_lexer": "ipython3",
   "version": "3.10.18"
  }
 },
 "nbformat": 4,
 "nbformat_minor": 5
}
