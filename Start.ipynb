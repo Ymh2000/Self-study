{
 "cells": [
  {
   "cell_type": "code",
   "execution_count": null,
   "id": "d287d96f",
   "metadata": {},
   "outputs": [],
   "source": [
    "import keyword\n",
    "\n",
    "#Program = Pro + Garm 미리 작성된 것\n",
    "\n",
    "#print() = 출력\n",
    "\n",
    "#문자형(str):\"\" 정수(int): n 실수(float): n.n 논리형(bool): True/False\n",
    "\n",
    "#연산자 + = 더하기 - = 빼기 * = 곱하기 / = 나누기 % = 나머지 ** = 제곱 // = 몫\n",
    "\n",
    "#복합 대입 연산자 += : 더하고 대입 -= : 빼고 대입 *= : 곱하고 대입 /= 나누고 대입 %= : 나머지 대입 ** = 제곱 대입 //= 몫 대입\n",
    "\n",
    "# \\\" = \" \\n = enter \\t = tab \\\\ = \\\n",
    "\n",
    "# \"\"\" = enter 마다 줄바꿈\n",
    "\n",
    "#문자열 범위 선택 \"\"[시작:끝] = 슬라이싱\n",
    "\n",
    "#문자열 길이 = len()\n",
    "\n",
    "#사용자 입력 = input(\"\") >> 리턴값은 문자열\n",
    "\n",
    "#자료형 변환 = str(), int(), float(), bool()\n",
    "\n",
    "#.format() = 문자열 포맷팅\n",
    "\n",
    "#대소문자 변환 = upper() : 대문자 lower() : 소문자 capitalize() : 첫글자 대문자 title() : 각 단어 첫글자 대문자\n",
    "\n",
    "#문자열 공백 제거 = strip() : 양옆 lstrip() : 왼쪽 rstrip() : 오른쪽\n",
    "\n",
    "#문자열 찾기 = find(\"\") : 왼쪽부터 찾기 rfind(\"\") : 오른쪽부터 찾기 \n",
    "\n",
    "#문자열 자르기 = split(\"\") : \"\" 기준으로 자르기 join() : \"\" 기준으로 합치기\n",
    "\n",
    "#비교 연산자 == : 같다 != : 같지않다 > : 크다 < : 작다 >= : 크거나 같다 <= : 작거나 같다\n",
    "\n",
    "#범위 = range(n) : 0 ~ n-1 range(n,m) : n ~ m-1 range(n,m,o) : n ~ m-1 앞뒤 숫자 o만큼 차이 ex) range(0,11,2) = [0,2,4,6,8,10] \n",
    "\n"
   ]
  },
  {
   "cell_type": "code",
   "execution_count": null,
   "id": "293db793",
   "metadata": {},
   "outputs": [
    {
     "name": "stdout",
     "output_type": "stream",
     "text": [
      "10 inch\n",
      "25.4 cm\n"
     ]
    }
   ],
   "source": [
    "#예시 문제 inch to cm 변환\n",
    "\n",
    "StrInput = input(\"숫자 입력:\")\n",
    "NumInput = int(StrInput)\n",
    "\n",
    "print(NumInput,\"inch\")\n",
    "print((NumInput * 2.54),\"cm\")"
   ]
  },
  {
   "cell_type": "code",
   "execution_count": 9,
   "id": "87e14d81",
   "metadata": {},
   "outputs": [
    {
     "name": "stdout",
     "output_type": "stream",
     "text": [
      "반지름(r) =  2.0\n",
      "둘레 :  12.56\n",
      "넓이 =  12.56\n"
     ]
    }
   ],
   "source": [
    "#예시 문제 원의 둘레와 넓이 구하기\n",
    "\n",
    "pi = 3.14\n",
    "\n",
    "str_input = input(\"반지름(r)\")\n",
    "num_input = float(str_input)\n",
    "\n",
    "print(\"반지름(r) = \",num_input)\n",
    "print(\"둘레 : \",2 * pi * num_input)\n",
    "print(\"넓이 = \",pi * num_input ** 2)"
   ]
  },
  {
   "cell_type": "code",
   "execution_count": null,
   "id": "8101908e",
   "metadata": {},
   "outputs": [
    {
     "name": "stdout",
     "output_type": "stream",
     "text": [
      "10 20\n",
      "20 10\n",
      "10 20\n",
      "20 10\n"
     ]
    }
   ],
   "source": [
    "#튜플 전 스왑\n",
    "\n",
    "a = 10\n",
    "b = 20\n",
    "\n",
    "print(a,b)\n",
    "\n",
    "c = a\n",
    "a = b\n",
    "b = c\n",
    "\n",
    "print(a,b)\n",
    "\n",
    "#튜플 후 스왑\n",
    "\n",
    "a = 10\n",
    "b = 20\n",
    "\n",
    "print(a,b)\n",
    "\n",
    "a, b = b, a\n",
    "\n",
    "print(a, b)"
   ]
  },
  {
   "cell_type": "code",
   "execution_count": 8,
   "id": "c985ec62",
   "metadata": {},
   "outputs": [
    {
     "name": "stdout",
     "output_type": "stream",
     "text": [
      "이름 : 홍길동, 나이 : 20\n"
     ]
    }
   ],
   "source": [
    "#.format() 예시\n",
    "\n",
    "name = \"홍길동\"\n",
    "age = 20\n",
    "print(\"이름 : {}, 나이 : {}\".format(name, age))\n"
   ]
  },
  {
   "cell_type": "code",
   "execution_count": 12,
   "id": "f757076e",
   "metadata": {},
   "outputs": [
    {
     "name": "stdout",
     "output_type": "stream",
     "text": [
      "True\n",
      "False\n",
      "False\n",
      "False\n",
      "True\n",
      "True\n",
      "True\n",
      "False\n",
      "False\n",
      "True\n"
     ]
    }
   ],
   "source": [
    " # and 와 or 예시\n",
    "\n",
    "print(True and True) #True\n",
    "print(True and False) #False\n",
    "print(False and True) #False\n",
    "print(False and False) #False\n",
    "\n",
    "print(True or True) #True\n",
    "print(True or False) #Ture\n",
    "print(False or True) #Ture\n",
    "print(False or False) #False\n",
    "\n",
    "# not 예시\n",
    "\n",
    "print(not True) #False\n",
    "print(not False) #Ture"
   ]
  },
  {
   "cell_type": "code",
   "execution_count": 13,
   "id": "e2f99662",
   "metadata": {},
   "outputs": [
    {
     "name": "stdout",
     "output_type": "stream",
     "text": [
      "양수\n"
     ]
    }
   ],
   "source": [
    "#if문 예시\n",
    "\n",
    "num = float(input(\"숫자를 입력하세요.\"))\n",
    "\n",
    "if num > 0:\n",
    "    print(\"양수\")\n",
    "elif num < 0:\n",
    "    print(\"음수\")\n",
    "else:\n",
    "    print(\"0\")"
   ]
  },
  {
   "cell_type": "code",
   "execution_count": 14,
   "id": "3454ceb0",
   "metadata": {},
   "outputs": [
    {
     "name": "stdout",
     "output_type": "stream",
     "text": [
      "5.0이 6.0보다 작습니다\n"
     ]
    }
   ],
   "source": [
    "#예시 문제 a와 b 크기 비교\n",
    "\n",
    "a = float(input(\"1번 숫자\"))\n",
    "b = float(input(\"2번 숫자\"))\n",
    "\n",
    "if a > b:\n",
    "    print(\"{}이 {}보다 큽니다\".format(a,b))\n",
    "elif a < b:\n",
    "    print(\"{}이 {}보다 작습니다\".format(a,b))\n",
    "else:\n",
    "    print(\"{}와 {}는 같습니다\".format(a,b))"
   ]
  },
  {
   "cell_type": "code",
   "execution_count": 15,
   "id": "499c6825",
   "metadata": {},
   "outputs": [
    {
     "name": "stdout",
     "output_type": "stream",
     "text": [
      "조건에 맞습니다.\n"
     ]
    }
   ],
   "source": [
    "x = float(input(\"숫자를 입력하세요.\"))\n",
    "\n",
    "if 10 < x < 20:\n",
    "    print(\"조건에 맞습니다.\")\n",
    "else:\n",
    "    print(\"조건에 맞지 않습니다.\")"
   ]
  },
  {
   "cell_type": "code",
   "execution_count": 16,
   "id": "c750a8ea",
   "metadata": {},
   "outputs": [],
   "source": [
    "# list = [element,element,...]\n",
    "# list ex)\n",
    "\n",
    "lsti_a = [1,2,3,4,5]\n",
    "\n",
    "#index[n] = n번째 요소 ex) list_a[0] = 1\n",
    "\n",
    "#list의 ele추가  list.append(element) = 마지막에 추가 list.insert(n,element) = n번째에 추가 list.extend([element,elemet,...]) = 마지막에 여러개 추가\n",
    "\n",
    "#list의 ele 제거 del list[n] = n번째 요소 제거 list.pop(n) = n번째 요소 제거 후 리턴 list.remove(element) = element 제거 list.clear() = 전체 제거\n",
    "\n",
    "#list 내부 값 확인 element in list"
   ]
  },
  {
   "cell_type": "code",
   "execution_count": 18,
   "id": "0e1b8752",
   "metadata": {},
   "outputs": [
    {
     "name": "stdout",
     "output_type": "stream",
     "text": [
      "1\n",
      "3\n",
      "5\n",
      "7\n",
      "9\n",
      "2\n",
      "4\n",
      "6\n"
     ]
    }
   ],
   "source": [
    "#for 반복문 \n",
    "\n",
    "#for 반복자 in 반복할 수 있는것(list,dic,range...)\n",
    "    #code\n",
    "\n",
    "list_b = [1,3,5,7,9,2,4,6]\n",
    "\n",
    "for element in list_b:\n",
    "    print(element)"
   ]
  },
  {
   "cell_type": "code",
   "execution_count": 7,
   "id": "bcafb1a5",
   "metadata": {},
   "outputs": [
    {
     "name": "stdout",
     "output_type": "stream",
     "text": [
      "273\n",
      "103\n",
      "800\n",
      "100\n",
      "\n",
      "273은 홀수입니다.\n",
      "103은 홀수입니다.\n",
      "5은 홀수입니다.\n",
      "32은 짝수입니다.\n",
      "65은 홀수입니다.\n",
      "9은 홀수입니다.\n",
      "72은 짝수입니다.\n",
      "800은 짝수입니다.\n",
      "99은 홀수입니다.\n",
      "100은 짝수입니다.\n",
      "\n",
      "273은 3자릿수입니다.\n",
      "103은 3자릿수입니다.\n",
      "5은 1자릿수입니다.\n",
      "32은 2자릿수입니다.\n",
      "65은 2자릿수입니다.\n",
      "9은 1자릿수입니다.\n",
      "72은 2자릿수입니다.\n",
      "800은 3자릿수입니다.\n",
      "99은 2자릿수입니다.\n",
      "100은 3자릿수입니다.\n"
     ]
    }
   ],
   "source": [
    "#예시 문제1 100이상의 숫자만 출력\n",
    "\n",
    "numbers = [273,103,5,32,65,9,72,800,99,100]\n",
    "\n",
    "for num in numbers:\n",
    "    if num >= 100:\n",
    "        print(num)\n",
    "\n",
    "print()\n",
    "\n",
    "#예시 문제2 홀수 짝수 구분\n",
    "\n",
    "for num in numbers:\n",
    "    if num % 2 == 0:\n",
    "        print(\"{}은 짝수입니다.\".format(num))\n",
    "    elif num % 2 == 1:\n",
    "        print(\"{}은 홀수입니다.\".format(num))\n",
    "    else:\n",
    "        print(\"{}은 0입니다.\".format(num))\n",
    "\n",
    "print()\n",
    "\n",
    "#예시 문제3 숫자 자릿수 표시\n",
    "\n",
    "for num in numbers:\n",
    "    if 0 < num < 10:\n",
    "        print(\"{}은 1자릿수입니다.\".format(num))\n",
    "    elif 10 <= num < 100:\n",
    "        print(\"{}은 2자릿수입니다.\".format(num))\n",
    "    elif 100 <= num < 1000:\n",
    "        print(\"{}은 3자릿수입니다.\".format(num))\n",
    "    else:\n",
    "        print(\"{}은 4자릿수이상입니다.\".format(num))\n"
   ]
  },
  {
   "cell_type": "code",
   "execution_count": 21,
   "id": "a830c068",
   "metadata": {},
   "outputs": [
    {
     "name": "stdout",
     "output_type": "stream",
     "text": [
      "1\n",
      "2\n",
      "3\n",
      "4\n",
      "5\n",
      "6\n",
      "7\n",
      "8\n",
      "9\n",
      "\n",
      "[[1, 4, 7], [2, 5, 8], [3, 6, 9]]\n"
     ]
    }
   ],
   "source": [
    "#예시문제 리스트 풀기\n",
    "\n",
    "list_of_list = [[1,2,3],[4,5,6,7],[8,9]]\n",
    "\n",
    "for num in list_of_list:\n",
    "    for i in num:\n",
    "        print(i)\n",
    "print()\n",
    "\n",
    "#예시문제 수식으로 수 분류하기\n",
    "\n",
    "numbers = [1,2,3,4,5,6,7,8,9]\n",
    "output = [[],[],[]]\n",
    "\n",
    "for number in numbers:\n",
    "    output[(number+2)%3].append(number)\n",
    "print(output)"
   ]
  },
  {
   "cell_type": "code",
   "execution_count": null,
   "id": "3617b323",
   "metadata": {},
   "outputs": [
    {
     "data": {
      "text/plain": [
       "{'name': 'end_game', 'type': 'hero_movie'}"
      ]
     },
     "execution_count": 20,
     "metadata": {},
     "output_type": "execute_result"
    }
   ],
   "source": [
    "#Dictionary = {key : value, key : value,...}\n",
    "\n",
    "dic_a = {\"name\": \"end_game\",\"type\":\"hero_movie\"}\n",
    "dic_a\n",
    "\n",
    "#Dic에 값 추가하기 dic_a[\"key\"] = value 제거하기 del dic_a[key]\n",
    "\n",
    "#반복문 Dict >\n",
    "#for key in Dict:\n",
    "    #code"
   ]
  },
  {
   "cell_type": "code",
   "execution_count": 39,
   "id": "47352cb6",
   "metadata": {},
   "outputs": [
    {
     "name": "stdout",
     "output_type": "stream",
     "text": [
      "#우리 동네 반려 동물들\n",
      "구름 5살\n",
      "초코 3살\n",
      "아지 1살\n",
      "호랑이 1살\n",
      "\n",
      "{1: 3, 2: 4, 6: 1, 8: 2, 4: 3, 3: 3, 9: 3, 5: 2, 7: 2}\n",
      "\n",
      "name : 기사\n",
      "level : 12\n",
      "sword : 불꽃의 검\n",
      "armor : 풀플레이트\n",
      "skill : 베기\n",
      "skill : 찌르기\n",
      "skill : 막기\n"
     ]
    }
   ],
   "source": [
    "#예시문제1 반복문과 Dict\n",
    "\n",
    "pets = [{\"name\":\"구름\",\"age\":5},{\"name\":\"초코\",\"age\":3},{\"name\":\"아지\",\"age\":1},{\"name\":\"호랑이\",\"age\":1}]\n",
    "\n",
    "print(\"#우리 동네 반려 동물들\")\n",
    "for pet in pets:\n",
    "    print(pet[\"name\"],str(pet[\"age\"])+\"살\")\n",
    "\n",
    "print()\n",
    "\n",
    "#예시문제2 반복되는 값 횟수 구하기\n",
    "\n",
    "numbers = [1,2,6,8,4,3,2,1,9,5,4,9,7,2,1,3,5,4,8,9,7,2,3]\n",
    "counter = {}\n",
    "\n",
    "for number in numbers:\n",
    "    if number in counter:\n",
    "        counter[number] += 1\n",
    "    else:\n",
    "        counter[number] = 1\n",
    "\n",
    "print(counter)\n",
    "print()\n",
    "\n",
    "#예시문제3 반복문과 Dict\n",
    "\n",
    "character = {\"name\":\"기사\",\"level\":12,\"items\":{\"sword\":\"불꽃의 검\",\"armor\":\"풀플레이트\"},\"skill\":[\"베기\",\"찌르기\",\"막기\"]}\n",
    "\n",
    "for key in character:\n",
    "    if type(character[key]) is dict:\n",
    "        for small_key in character[key]:\n",
    "            print(small_key,\":\",character[key][small_key])\n",
    "    elif type(character[key]) is list:\n",
    "        for item in character[key]:\n",
    "            print(key,\":\",item)\n",
    "    else:\n",
    "        print(key,\":\",character[key])"
   ]
  },
  {
   "cell_type": "code",
   "execution_count": null,
   "id": "027fd3f8",
   "metadata": {},
   "outputs": [
    {
     "name": "stdout",
     "output_type": "stream",
     "text": [
      "0=반복 변수\n",
      "1=반복 변수\n",
      "2=반복 변수\n",
      "3=반복 변수\n",
      "4=반복 변수\n",
      "\n",
      "5=반복 변수\n",
      "6=반복 변수\n",
      "7=반복 변수\n",
      "8=반복 변수\n",
      "9=반복 변수\n",
      "\n",
      "0=반복 변수\n",
      "2=반복 변수\n",
      "4=반복 변수\n",
      "6=반복 변수\n",
      "8=반복 변수\n",
      "10=반복 변수\n",
      "\n",
      "0번째 반복: 273\n",
      "1번째 반복: 32\n",
      "2번째 반복: 103\n",
      "3번째 반복: 57\n",
      "4번째 반복: 52\n",
      "\n",
      "10=반복 변수\n",
      "8=반복 변수\n",
      "6=반복 변수\n",
      "4=반복 변수\n",
      "2=반복 변수\n",
      "0=반복 변수\n"
     ]
    }
   ],
   "source": [
    "#range()와 반복문\n",
    "\n",
    "for i in range(5):\n",
    "    print(str(i)+\"=반복 변수\")\n",
    "print()\n",
    "\n",
    "for i in range(5,10):\n",
    "    print(str(i)+\"=반복 변수\")\n",
    "print()\n",
    "\n",
    "for i in range(0,10+1,2):\n",
    "    print(str(i)+\"=반복 변수\")\n",
    "print()\n",
    "\n",
    "#range와 list 조합하기\n",
    "\n",
    "array = [273,32,103,57,52]\n",
    "\n",
    "for i in range(len(array)):\n",
    "    print(\"{}번째 반복: {}\".format(i,array[i]))\n",
    "print()\n",
    "\n"
   ]
  },
  {
   "cell_type": "code",
   "execution_count": null,
   "id": "2f5e0777",
   "metadata": {},
   "outputs": [
    {
     "name": "stdout",
     "output_type": "stream",
     "text": [
      "10=반복 변수\n",
      "8=반복 변수\n",
      "6=반복 변수\n",
      "4=반복 변수\n",
      "2=반복 변수\n",
      "0=반복 변수\n",
      "\n",
      "10=반복 변수\n",
      "8=반복 변수\n",
      "6=반복 변수\n",
      "4=반복 변수\n",
      "2=반복 변수\n",
      "0=반복 변수\n"
     ]
    }
   ],
   "source": [
    "#역반복문\n",
    "\n",
    "for i in range(10,0-1,-2):\n",
    "    print(str(i)+\"=반복 변수\")\n",
    "print()\n",
    "\n",
    "#역반복문2\n",
    "\n",
    "for i in reversed(range(0,10+1,2)):\n",
    "    print(str(i)+\"=반복 변수\")\n"
   ]
  },
  {
   "cell_type": "code",
   "execution_count": 10,
   "id": "ccfa424a",
   "metadata": {},
   "outputs": [
    {
     "name": "stdout",
     "output_type": "stream",
     "text": [
      "0번째 반복입니다.\n",
      "1번째 반복입니다.\n",
      "2번째 반복입니다.\n",
      "3번째 반복입니다.\n",
      "4번째 반복입니다.\n",
      "5번째 반복입니다.\n",
      "6번째 반복입니다.\n",
      "7번째 반복입니다.\n",
      "8번째 반복입니다.\n",
      "9번째 반복입니다.\n",
      "10번째 반복입니다.\n",
      "\n",
      "[1, 2, 4, 5, 6, 7, 8, 9, 10]\n",
      "\n",
      "5초 동안 56776505번 반복했습니다.\n"
     ]
    }
   ],
   "source": [
    "#while 반복문 = while code: > code가 Ture일 때 계속 반복\n",
    "\n",
    "#while 반복문을 for 반복문 처럼 사용하기\n",
    "\n",
    "a = 0\n",
    "while a <= 10:\n",
    "    print(\"{}번째 반복입니다.\".format(a))\n",
    "    a += 1\n",
    "print()\n",
    "\n",
    "#while 반복문으로 특정값 모두 제거하기\n",
    "\n",
    "ListA = [1,2,3,3,3,3,3,3,3,3,3,3,3,3,3,3,3,3,4,5,6,7,8,9,10,3,3,3,3,3,3,3,3,3,3,3,3,3,3,3,3,3,3]\n",
    "b = 3\n",
    "\n",
    "while b in ListA:\n",
    "    ListA.remove(b)\n",
    "print(ListA)\n",
    "print()\n",
    "\n",
    "#while 반복문을 시간을 기반으로 반복하기\n",
    "import time\n",
    "\n",
    "number = 0\n",
    "target_tick = time.time() + 5\n",
    "while time.time() < target_tick:\n",
    "    number += 1\n",
    "print(\"5초 동안 {}번 반복했습니다.\".format(number))\n"
   ]
  },
  {
   "cell_type": "code",
   "execution_count": null,
   "id": "53d1de7e",
   "metadata": {},
   "outputs": [
    {
     "name": "stdout",
     "output_type": "stream",
     "text": [
      "1번째 반복문입니다.\n",
      "2번째 반복문입니다.\n",
      "3번째 반복문입니다.\n",
      "4번째 반복문입니다.\n",
      "5번째 반복문입니다.\n",
      "반복을 종료합니다\n",
      "\n",
      "15\n",
      "20\n",
      "25\n"
     ]
    }
   ],
   "source": [
    "#break : 반복문을 중단 continue : 현재 반복을 생략 후 다음 반복으로 넘어감\n",
    "\n",
    "i = 0\n",
    "\n",
    "while True:\n",
    "    print(\"{}번째 반복문입니다.\".format(i+1))\n",
    "    i += 1\n",
    "    a = input(\">종료하시겠습니까?(y,n)\")\n",
    "    if a in [\"y\",\"Y\",\"yes\",\"Yes\"]:\n",
    "        print(\"반복을 종료합니다\")\n",
    "        break\n",
    "print()\n",
    "\n",
    "nums = [5,15,6,20,7,25]\n",
    "\n",
    "for num in nums:\n",
    "    if num < 10:\n",
    "        continue\n",
    "    print(num)\n"
   ]
  },
  {
   "cell_type": "code",
   "execution_count": null,
   "id": "5a83c834",
   "metadata": {},
   "outputs": [
    {
     "name": "stdout",
     "output_type": "stream",
     "text": [
      "{'name': '제대로무새', 'hp': '9999', 'mp': '9999', 'level': '262'}\n",
      "\n",
      "46를 더할 때 1000을 넘으며 그 값은 1035입니다\n",
      "\n",
      "최대가 되는 경우: 50 x 50 = 2500\n"
     ]
    }
   ],
   "source": [
    "#예시문제1\n",
    "\n",
    "key_list = [\"name\",\"hp\",\"mp\",\"level\"]\n",
    "value_list = [\"제대로무새\",\"9999\",\"9999\",\"262\"]\n",
    "game_character = {}\n",
    "\n",
    "for i in range(0,len(key_list)):\n",
    "    game_character[key_list[i]] = value_list[i]\n",
    "\n",
    "print(game_character)\n",
    "print()\n",
    "\n",
    "#예시문제2\n",
    "\n",
    "limit = 1000\n",
    "i = 1\n",
    "n = 0\n",
    "\n",
    "while n < limit:\n",
    "    n += i\n",
    "    i += 1\n",
    "print(\"{}를 더할 때 {}을 넘으며 그 값은 {}입니다\".format(i,limit,n))\n",
    "print()\n",
    "\n",
    "#예시문제3\n",
    "\n",
    "v = 0\n",
    "a = 0\n",
    "b = 0\n",
    "\n",
    "for i in range(1,50+1):\n",
    "    j = 100 - i\n",
    "    c = i * j\n",
    "    if v < c:\n",
    "        a = i\n",
    "        b = j\n",
    "        v = c\n",
    "print(\"최대가 되는 경우: {} x {} = {}\".format(a,b,v))\n"
   ]
  },
  {
   "cell_type": "code",
   "execution_count": null,
   "id": "50f10854",
   "metadata": {},
   "outputs": [
    {
     "name": "stdout",
     "output_type": "stream",
     "text": [
      "1번째 요소는 A입니다\n",
      "2번째 요소는 B입니다\n",
      "3번째 요소는 C입니다\n",
      "\n",
      "1번쨰 요소는 a입니다.\n",
      "2번쨰 요소는 b입니다.\n",
      "3번쨰 요소는 c입니다.\n",
      "\n",
      "1번쨰 요소는 ㄱ입니다.\n",
      "2번쨰 요소는 ㄴ입니다.\n",
      "3번쨰 요소는 ㄷ입니다.\n"
     ]
    }
   ],
   "source": [
    "# enumerate() 활용법\n",
    "\n",
    "ex1 = [\"A\",\"B\",\"C\"]\n",
    "i = 0\n",
    "for item in ex1:\n",
    "    print(\"{}번째 요소는 {}입니다\".format(i+1,item))\n",
    "    i += 1\n",
    "print()\n",
    "\n",
    "ex2 = [\"a\",\"b\",\"c\"]\n",
    "for i in range(len(ex2)):\n",
    "    print(\"{}번쨰 요소는 {}입니다.\".format(i+1,ex2[i]))\n",
    "print()\n",
    "\n",
    "ex3 = [\"ㄱ\",\"ㄴ\",\"ㄷ\"]\n",
    "for i, value in enumerate(ex3):\n",
    "    print(\"{}번쨰 요소는 {}입니다.\".format(i+1,value))\n"
   ]
  },
  {
   "cell_type": "code",
   "execution_count": 40,
   "id": "d541eb6b",
   "metadata": {},
   "outputs": [
    {
     "name": "stdout",
     "output_type": "stream",
     "text": [
      "item() :  dict_items([('A', 'a'), ('B', 'b'), ('C', 'c')])\n",
      "\n",
      "dict[A] = a\n",
      "dict[B] = b\n",
      "dict[C] = c\n"
     ]
    }
   ],
   "source": [
    "#dict와 item() 함수\n",
    "\n",
    "ex_dict = {\"A\":\"a\",\"B\":\"b\",\"C\":\"c\"}\n",
    "\n",
    "print(\"item() : \",ex_dict.items())\n",
    "print()\n",
    "\n",
    "#반복문과 조합\n",
    "\n",
    "for key, element in ex_dict.items():\n",
    "    print(\"dict[{}] = {}\".format(key,element))\n",
    "    "
   ]
  },
  {
   "cell_type": "code",
   "execution_count": 45,
   "id": "8d423bcb",
   "metadata": {},
   "outputs": [
    {
     "name": "stdout",
     "output_type": "stream",
     "text": [
      "[0, 4, 16, 36, 64, 100, 144, 196, 256, 324, 400]\n",
      "\n",
      "[0, 4, 16, 36, 64, 100, 144, 196, 256, 324, 400]\n",
      "\n",
      "['사과', '자두', '키위', '바나나', '체리']\n"
     ]
    }
   ],
   "source": [
    "#리스트 내포 > 리스트 이름 = [표현식 for 반복자 in 반복 가능한 것 (if 조건문)]\n",
    "\n",
    "array1 = []\n",
    "\n",
    "for i in range(0,20+1,2):\n",
    "    array1.append(i * i)\n",
    "print(array1)\n",
    "print()\n",
    "\n",
    "array2 = [i * i for i in range(0,20+1,2)]\n",
    "print(array2)\n",
    "print()\n",
    "\n",
    "array3 = [\"사과\",\"자두\",\"키위\",\"바나나\",\"초콜릿\",\"체리\"]\n",
    "output = [item for item in array3 if item != \"초콜릿\"]\n",
    "print(output)"
   ]
  },
  {
   "cell_type": "code",
   "execution_count": 55,
   "id": "5b839c29",
   "metadata": {},
   "outputs": [
    {
     "name": "stdout",
     "output_type": "stream",
     "text": [
      "1010\n",
      "\n",
      "10\n",
      "\n",
      "2 : 10\n",
      "5 : 101\n",
      "6 : 110\n",
      "11 : 1011\n",
      "13 : 1101\n",
      "14 : 1110\n",
      "23 : 10111\n",
      "27 : 11011\n",
      "29 : 11101\n",
      "30 : 11110\n",
      "47 : 101111\n",
      "55 : 110111\n",
      "59 : 111011\n",
      "61 : 111101\n",
      "62 : 111110\n",
      "95 : 1011111\n",
      "합계 :  539\n"
     ]
    }
   ],
   "source": [
    "#10진수와 2진수 변환\n",
    "\n",
    "print(\"{:b}\".format(10))\n",
    "print()\n",
    "print(int(\"1010\",2))\n",
    "print()\n",
    "\n",
    "\n",
    "#1~100 사이의 수 중 2진수로 변환했을 때 0이 하나인 수들의 합\n",
    "\n",
    "output = [i for i in range(1,100+1) if \"{:b}\".format(i).count(\"0\") == 1]\n",
    "\n",
    "for i in output:\n",
    "    print(\"{} : {}\".format(i,\"{:b}\".format(i)))\n",
    "print(\"합계 : \",sum(output))\n"
   ]
  },
  {
   "cell_type": "code",
   "execution_count": null,
   "id": "1191eb01",
   "metadata": {},
   "outputs": [
    {
     "name": "stdout",
     "output_type": "stream",
     "text": [
      "매개변수\n",
      "매개변수\n",
      "매개변수\n",
      "매개변수\n",
      "매개변수\n",
      "\n",
      "가변1\n",
      "가변2\n",
      "가변3\n",
      "가변4\n",
      "\n",
      "가변1\n",
      "가변2\n",
      "가변3\n",
      "가변4\n",
      "\n",
      "가변1\n",
      "가변2\n",
      "가변3\n",
      "가변4\n",
      "\n"
     ]
    }
   ],
   "source": [
    "#함수 만들기 >> def 함수이름(매개변수,매개변수,....):\n",
    "\n",
    "def ti(value,n):\n",
    "    for i in range(n):\n",
    "        print(value)\n",
    "    print()\n",
    "ti(\"매개변수\",5)\n",
    "\n",
    "#가변 매개변수 >> 가변 매개변수 뒤에는 매개변수가 올 수 없음, 가변 매개변수는 하나만 사용 ...,*가변 매개변수)\n",
    "\n",
    "def ex(n,*values):\n",
    "    for i in range(n):\n",
    "        for value in values:\n",
    "            print(value)\n",
    "        print()\n",
    "\n",
    "ex(3,\"가변1\",\"가변2\",\"가변3\",\"가변4\")\n",
    "\n",
    "#일반 매개변수 >> 매개변수 = 값 : 값을 지정해줘서 변수에 아무것도 입력하지 않을 경우 처음 입력값으로 출력, 뒤에 가변&매개변수가 올 수 없음\n",
    "#Notebook에 예시\n"
   ]
  },
  {
   "cell_type": "code",
   "execution_count": null,
   "id": "cd71fe61",
   "metadata": {},
   "outputs": [
    {
     "name": "stdout",
     "output_type": "stream",
     "text": [
      "pass\n",
      "\n",
      "goal\n"
     ]
    }
   ],
   "source": [
    "#return 함수를 끝내고 실행했던 위치로 돌아감\n",
    "\n",
    "def re0():\n",
    "    print(\"pass\")\n",
    "    return\n",
    "    print(\"goal\")\n",
    "\n",
    "re0()\n",
    "print()\n",
    "#return 뒤에 자료 입력시 해당 자료를 가지고 돌아감\n",
    "\n",
    "def re1():\n",
    "    return \"goal\"\n",
    "a = re1()\n",
    "print(a)\n"
   ]
  },
  {
   "cell_type": "code",
   "execution_count": 82,
   "id": "42167307",
   "metadata": {},
   "outputs": [
    {
     "name": "stdout",
     "output_type": "stream",
     "text": [
      "0 to 100 :  5050\n",
      "10 to 5000 :  12502455\n"
     ]
    }
   ],
   "source": [
    "#함수의 활용 def\n",
    "\n",
    "def plues(start,end):\n",
    "    output = 0\n",
    "    for i in range(start,end + 1):\n",
    "        output += i\n",
    "    return output\n",
    "    \n",
    "print(\"0 to 100 : \",plues(0,100))\n",
    "print(\"10 to 5000 : \",plues(10,5000))\n"
   ]
  },
  {
   "cell_type": "code",
   "execution_count": null,
   "id": "c4beef41",
   "metadata": {},
   "outputs": [
    {
     "name": "stdout",
     "output_type": "stream",
     "text": [
      "3150\n"
     ]
    },
    {
     "data": {
      "text/plain": [
       "str"
      ]
     },
     "execution_count": 92,
     "metadata": {},
     "output_type": "execute_result"
    }
   ],
   "source": [
    "#예시문제\n",
    "\n",
    "def mul(*values):\n",
    "    a = 1\n",
    "    for i in values:\n",
    "        a *= i\n",
    "    return a\n",
    "print(mul(5,7,9,10))\n"
   ]
  },
  {
   "cell_type": "code",
   "execution_count": 94,
   "id": "6526f59d",
   "metadata": {},
   "outputs": [
    {
     "name": "stdout",
     "output_type": "stream",
     "text": [
      "5! =  120\n",
      "\n",
      "5! =  120\n"
     ]
    }
   ],
   "source": [
    "#반복문으로 팩토리얼 구하기 n!\n",
    "\n",
    "def factorial(n):\n",
    "    a = 1\n",
    "    for i in range(1,n + 1):\n",
    "        a = a * i\n",
    "    return a\n",
    "print(\"5! = \",factorial(5))\n",
    "print()\n",
    "\n",
    "#재귀함수로 팩토리얼 구하기 n!\n",
    "\n",
    "def fac(n):\n",
    "    if n == 0:\n",
    "        return 1\n",
    "    else:\n",
    "        return n * fac(n - 1)\n",
    "print(\"5! = \",fac(5))\n"
   ]
  },
  {
   "cell_type": "code",
   "execution_count": null,
   "id": "3943d3ce",
   "metadata": {},
   "outputs": [
    {
     "name": "stdout",
     "output_type": "stream",
     "text": [
      "9227465\n",
      "\n",
      "fi(35) 계산에 활용된 덧셈 횟수는 18454929번 입니다.\n",
      "\n",
      "9227465\n"
     ]
    }
   ],
   "source": [
    "#피보나치 수열(1)\n",
    "\n",
    "def fi(n):\n",
    "    if n == 1:\n",
    "        return 1\n",
    "    elif n == 2:\n",
    "        return 1\n",
    "    else:\n",
    "        return fi(n-1) + fi(n-2)\n",
    "print(fi(35))\n",
    "print()\n",
    "\n",
    "#재귀함수 반복\n",
    "\n",
    "c = 0\n",
    "\n",
    "def fi1(n):\n",
    "    global c\n",
    "    c += 1\n",
    "    if n == 1:\n",
    "        return 1\n",
    "    elif n == 2:\n",
    "        return 1\n",
    "    else:\n",
    "        return fi1(n-1) + fi1(n-2)\n",
    "fi1(35)\n",
    "print(\"fi(35) 계산에 활용된 함수 호출 횟수는 {}번 입니다.\".format(c))\n",
    "print()\n",
    "\n",
    "#반복 횟수 줄이는 방법\n",
    "\n",
    "dict = {1: 1,2: 1}\n",
    "\n",
    "def fi2(n):\n",
    "    if n in dict:\n",
    "        return dict[n] #저장값을 꺼내옴\n",
    "    else:\n",
    "        output = fi2(n - 1) + fi2(n - 2)\n",
    "        dict[n] = output #위에서 계산한 값을 dict에 저장\n",
    "        return output\n",
    "print(fi2(35))\n"
   ]
  },
  {
   "cell_type": "code",
   "execution_count": null,
   "id": "dd258276",
   "metadata": {},
   "outputs": [
    {
     "name": "stdout",
     "output_type": "stream",
     "text": [
      "원본 :  [[1, 2, 3], [4, [5, 6]], 7, [8, 9]]\n",
      "변환 :  [1, 2, 3, 4, 5, 6, 7, 8, 9]\n"
     ]
    }
   ],
   "source": [
    "#예시문제\n",
    "\n",
    "def flatten(data):\n",
    "    output = []\n",
    "    for item in data:\n",
    "        if type(item) == list:\n",
    "            output += flatten(item)\n",
    "        else:\n",
    "            output.append(item)\n",
    "    return output\n",
    "example = [[1,2,3],[4,[5,6]],7,[8,9]]\n",
    "print(\"원본 : \",example)\n",
    "print(\"변환 : \",flatten(example))\n"
   ]
  },
  {
   "cell_type": "code",
   "execution_count": null,
   "id": "e2888759",
   "metadata": {},
   "outputs": [],
   "source": []
  }
 ],
 "metadata": {
  "kernelspec": {
   "display_name": "pyt310",
   "language": "python",
   "name": "python3"
  },
  "language_info": {
   "codemirror_mode": {
    "name": "ipython",
    "version": 3
   },
   "file_extension": ".py",
   "mimetype": "text/x-python",
   "name": "python",
   "nbconvert_exporter": "python",
   "pygments_lexer": "ipython3",
   "version": "3.10.18"
  }
 },
 "nbformat": 4,
 "nbformat_minor": 5
}
